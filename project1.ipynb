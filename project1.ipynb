{
  "nbformat": 4,
  "nbformat_minor": 0,
  "metadata": {
    "colab": {
      "provenance": [],
      "mount_file_id": "1HiWEJR9CeE84r9puWyVT9hjb6WuazFcv",
      "authorship_tag": "ABX9TyPVuYiQjt14L7uZvlYcMdL1",
      "include_colab_link": true
    },
    "kernelspec": {
      "name": "python3",
      "display_name": "Python 3"
    },
    "language_info": {
      "name": "python"
    }
  },
  "cells": [
    {
      "cell_type": "markdown",
      "metadata": {
        "id": "view-in-github",
        "colab_type": "text"
      },
      "source": [
        "<a href=\"https://colab.research.google.com/github/vtx8nf/hi_there/blob/python/project1.ipynb\" target=\"_parent\"><img src=\"https://colab.research.google.com/assets/colab-badge.svg\" alt=\"Open In Colab\"/></a>"
      ]
    },
    {
      "cell_type": "code",
      "source": [
        "# DOCUMENTATION\n",
        "# -------------\n",
        "\n",
        "# Author: Kaila Kennedy\n",
        "\n",
        "# Date Started:\n",
        "# 06/23/2025\n",
        "\n",
        "# Date Finished:\n",
        "# --/--/----\n",
        "\n",
        "# Purpose:\n",
        "# I made this program to (1) see what I could do and (2) collect\n",
        "# things that I liked about space, prehistoric creatures,\n",
        "# and, most importantly, geese. Gotta have the geese, man.\n",
        "\n",
        "# Credits:\n",
        "# If you don't plan on being so daring, give credit to looney tunes, or\n",
        "# the entity that owns looney tunes.\n"
      ],
      "metadata": {
        "id": "BnwCTx12xjDV"
      },
      "execution_count": null,
      "outputs": []
    },
    {
      "cell_type": "code",
      "source": [
        "# MODULES, OTHER FILES, & CONSTANTS\n",
        "# ---------------------------------\n",
        "\n",
        "import time\n",
        "import sys\n",
        "import random\n",
        "import numpy as np\n",
        "import matplotlib.pyplot as plt\n",
        "import seaborn as sns\n",
        "\n",
        "%run ./pypics.ipynb\n",
        "# sillygoose()\n",
        "# gottoosilly()\n",
        "# thatsallfolks1(.3)\n",
        "# thatsallfolks2(.2)\n",
        "\n",
        "G = 6.67408e-11\n"
      ],
      "metadata": {
        "id": "QqEjaaeqoeur"
      },
      "execution_count": null,
      "outputs": []
    },
    {
      "cell_type": "code",
      "source": [
        "# FUNCTIONS & COPY-PASTE\n",
        "# ----------------------\n",
        "\n",
        "def v_esc(M,R):\n",
        "  return (2*G*M/R)**(1/2)\n",
        "\n",
        "# print(\"Do you wish to continue? Enter:\\n\" +\n",
        "#       \"> 'c' to continue\\n\" +\n",
        "#       \"> 's' to skip this section\\n\" +\n",
        "#       \"> 'e' to exit the program\")\n",
        "# wish_# = input()\n",
        "# print()\n",
        "#\n",
        "# while (wish_# != \"c\" and wish_# != \"s\" and wish_# != \"e\"):\n",
        "#   sillygoose()\n",
        "#   print()\n",
        "#   print(\"Do you wish to continue? Enter:\\n\" +\n",
        "#       \"> 'c' to continue\\n\" +\n",
        "#       \"> 's' to skip this section\\n\" +\n",
        "#       \"> 'e' to exit the program\")\n",
        "#   wish_# = input()\n",
        "#   print()\n",
        "#\n",
        "# if wish_# == \"c\":\n",
        "#   time.sleep(1)\n",
        "#   print(\"SECTION TITLE\")\n",
        "#   print(\"-------------\")\n",
        "#   time.sleep(1)\n",
        "#   # and so on\n",
        "#\n",
        "# elif wish_# == \"s\":\n",
        "#   pass\n",
        "#\n",
        "# elif wish_# == \"e\":\n",
        "#   sys.exit(\"Bye, bye, Birdy!\")\n",
        "#\n",
        "# print()"
      ],
      "metadata": {
        "id": "yxsYY9c1omJS"
      },
      "execution_count": null,
      "outputs": []
    },
    {
      "cell_type": "markdown",
      "source": [],
      "metadata": {
        "id": "jd9zpAhKTWyb"
      }
    },
    {
      "cell_type": "code",
      "source": [
        "# THING 1\n",
        "# -------\n",
        "\n",
        "print(\"THE CALLISTOCRAFT\")\n",
        "print(\"-----------------\")\n",
        "time.sleep(1)\n",
        "print(\"How fast does a rocket on Callisto have to go to escape the Galilean\\n\" +\n",
        "      \"satellite's gravity? Enter Callisto's characteristics to find out.\\n\")\n",
        "time.sleep(1)\n",
        "\n",
        "print(\"What is Callisto's mass in kg?\")\n",
        "callisto_mass = input()\n",
        "callisto_mass = float(callisto_mass)\n",
        "time.sleep(1)\n",
        "\n",
        "print(\"What is Callisto's radius in meters?\")\n",
        "callisto_radius = input()\n",
        "callisto_radius = float(callisto_radius)\n",
        "\n",
        "callisto_v_esc = v_esc(callisto_mass,callisto_radius)\n",
        "\n",
        "# give range of appropriate responses and give silly goose when it isn't in range (use 1 sigfig)\n",
        "\n",
        "print()\n",
        "\n",
        "for i in range(3):\n",
        "  print(\".\", end=\"\", flush=True)\n",
        "  time.sleep(1)\n",
        "\n",
        "print()"
      ],
      "metadata": {
        "colab": {
          "base_uri": "https://localhost:8080/"
        },
        "id": "UlZMjvhHJHEr",
        "outputId": "4d785a63-299b-4371-c94c-6a8bf0352ad5"
      },
      "execution_count": null,
      "outputs": [
        {
          "output_type": "stream",
          "name": "stdout",
          "text": [
            "THE CALLISTOCRAFT\n",
            "-----------------\n",
            "How fast does a rocket on Callisto have to go to escape the Galilean\n",
            "satellite's gravity? Enter Callisto's characteristics to find out.\n",
            "\n",
            "What is Callisto's mass in kg?\n",
            "8\n",
            "What is Callisto's radius in meters?\n",
            "9\n",
            "\n",
            "...\n"
          ]
        }
      ]
    },
    {
      "cell_type": "code",
      "source": [],
      "metadata": {
        "id": "X3yVjli4czTv"
      },
      "execution_count": null,
      "outputs": []
    },
    {
      "cell_type": "code",
      "source": [
        "# thing format:\n",
        "# -------------\n",
        "# line 1 of title\n",
        "# sleep\n",
        "# line 2 of title\n",
        "# sleep\n",
        "# line 3 of title\n",
        "# sleep\n",
        "# ---------------\n",
        "# sleep\n",
        "# say thing or ask question\n",
        "\n",
        "\n",
        "\n",
        "\n",
        "\n",
        "\n",
        "# ------------------------------------------------------------------------------------\n",
        "# Remember to use terminate() before if statements and sillygoose() for wrong answers!\n",
        "# use f-strings somewhere\n",
        "#\n",
        "# thing format:\n",
        "# -------------\n",
        "# line 1 of title\n",
        "# sleep\n",
        "# line 2 of title\n",
        "# sleep\n",
        "# line 3 of title\n",
        "# sleep\n",
        "# ---------------\n",
        "# sleep\n",
        "# say thing or ask question\n",
        "#\n",
        "# THE THINGS; NOT IN THIS ORDER(?); Put explanations for things if needed!\n",
        "# ------------------------------------------------------------------------\n",
        "\n",
        "# Black Hole Bending: Why does light bend around black holes?\n",
        "#\n",
        "# Mosasaur Multiple-choice (tell them what a mosasaur is) or Megalodon\n",
        "# Multiple-choice [random number generator and then if statement]\n",
        "#\n",
        "# Calculator: This calculator calculates things so you don't have to! Pick\n",
        "# from one of these [and loop however many times so they can pick again until\n",
        "# all things are calculated; also have a way they can pass]\n",
        "  # name things to calculate...from modern? from astrophysics? look through files.\n",
        "#\n",
        "# A Quasar Question\n",
        "#\n",
        "# Dino Nuggets: (fun facts about dinosaurs; enter 'keyword' to learn more loop,\n",
        "# or say no to break while loop with if statements) (one is dinosaurs are\n",
        "# technically prehistoric land-dwelling reptiles, so the mosasaurus was not a\n",
        "# dino. Enter 'dinodef' to learn something else; and maybe what is the word dino\n",
        "# derived from)\n",
        "#\n",
        "# put in an astronomical phenomena graph with something special like seaborn\n",
        "# and then explain it (maybe spectra from a small planet eclipsing its star;\n",
        "# something that hasn't already been covered); learn from HW keys\n",
        "#\n",
        "# Pulsar Blues: A lot of pulsars are a bluish-white color. Why?\n",
        "#\n",
        "# Now onto something boring and really hard... [insert impossible/unanswered\n",
        "# physics question]; If you don't want to answer this question, enter 'no'. ;\n",
        "# for every answer, give this feedback: I don't know the answer to this question. Thanks for the idea! :}\n",
        "\n",
        "# Thing 1\n",
        "# Thing 2\n",
        "# Thing 3\n",
        "# Thing 4\n",
        "# Thing 5\n",
        "# Thing 6\n",
        "# Thing 7\n",
        "# Thing 8\n",
        "# Thing 9"
      ],
      "metadata": {
        "id": "m6BfkrzTPT_a"
      },
      "execution_count": null,
      "outputs": []
    },
    {
      "cell_type": "code",
      "source": [
        "print(\"Any last words? Or Feedback? I'd appreciate it. :)\")\n",
        "print(\"Or you can enter 'no' to skip past this.\")\n",
        "# If no, pass\n",
        "# Else convert to string and save to file with the info you screen shotted on phone\n",
        "\n",
        "# and remember thatsallfolks1OR2(); choose which one with a random number generator and if statements!\n",
        "\n",
        "# upload to github and put proper links in CV"
      ],
      "metadata": {
        "colab": {
          "base_uri": "https://localhost:8080/"
        },
        "id": "SLEY2Rq6PYCM",
        "outputId": "8df4b353-a35b-43f6-b840-48ca75dc0f98"
      },
      "execution_count": null,
      "outputs": [
        {
          "output_type": "stream",
          "name": "stdout",
          "text": [
            "Any last words? Or Feedback? I'd appreciate it. :)\n",
            "Or you can enter 'no' to skip past this.\n"
          ]
        }
      ]
    }
  ]
}