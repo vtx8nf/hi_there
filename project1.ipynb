{
  "nbformat": 4,
  "nbformat_minor": 0,
  "metadata": {
    "colab": {
      "provenance": [],
      "mount_file_id": "1HiWEJR9CeE84r9puWyVT9hjb6WuazFcv",
      "authorship_tag": "ABX9TyMKRLRsG5MO266y6SOL9MMD",
      "include_colab_link": true
    },
    "kernelspec": {
      "name": "python3",
      "display_name": "Python 3"
    },
    "language_info": {
      "name": "python"
    }
  },
  "cells": [
    {
      "cell_type": "markdown",
      "metadata": {
        "id": "view-in-github",
        "colab_type": "text"
      },
      "source": [
        "<a href=\"https://colab.research.google.com/github/vtx8nf/hi_there/blob/python/project1.ipynb\" target=\"_parent\"><img src=\"https://colab.research.google.com/assets/colab-badge.svg\" alt=\"Open In Colab\"/></a>"
      ]
    },
    {
      "cell_type": "code",
      "source": [
        "'''\n",
        "DOCUMENTATION:\n",
        "\n",
        "  Author: Kaila Kennedy\n",
        "  Date Started: 06/23/2025\n",
        "  Date Finished: -\n",
        "\n",
        "  I made this interactive program:\n",
        "  >> to see what I could do.\n",
        "  >> to collect things that I like about space, prehistoric creatures, and,\n",
        "     most importantly, geese.\n",
        "  >> for fun? (゜-゜)\n",
        "\n",
        "  Credits:\n",
        "  >> If you don't plan on being so daring, give credit to looney tunes or the\n",
        "     entity that owns looney tunes.\n",
        "\n",
        "'''"
      ],
      "metadata": {
        "id": "BnwCTx12xjDV",
        "collapsed": true
      },
      "execution_count": null,
      "outputs": []
    },
    {
      "cell_type": "code",
      "source": [
        "# MODULES:\n",
        "import time\n",
        "import sys\n",
        "import random\n",
        "import itertools as it\n",
        "import numpy as np\n",
        "import matplotlib.pyplot as plt\n",
        "import seaborn as sns\n",
        "\n",
        "# CONSTANTS:\n",
        "G = 6.67408e-11\n",
        "\n",
        "# GENERAL FUNCTIONS:\n",
        "\n",
        "%run ./pypics.ipynb\n",
        "# sillygoose()\n",
        "# gottoosilly()\n",
        "# thatsallfolks1(.3)\n",
        "# thatsallfolks2(.2)\n",
        "\n",
        "def v_esc(M,R):\n",
        "  return ((2*G*M)/R)**(1/2)\n",
        "\n",
        "def end_things():\n",
        "  print()\n",
        "  for i in range(3):\n",
        "    print(\".\", end=\"\", flush=True)\n",
        "    time.sleep(1)\n",
        "  print()\n"
      ],
      "metadata": {
        "id": "QqEjaaeqoeur"
      },
      "execution_count": 5,
      "outputs": []
    },
    {
      "cell_type": "markdown",
      "source": [],
      "metadata": {
        "id": "jd9zpAhKTWyb"
      }
    },
    {
      "cell_type": "code",
      "source": [
        "# THING 1\n",
        "\n",
        "print(\"THE CALLISTOCRAFT\")\n",
        "print(\"----------------- \\n\")\n",
        "time.sleep(1.5)\n",
        "\n",
        "print(\"How fast does a rocket on Callisto's surface have to go to escape the \\n\" +\n",
        "      \"Galilean satellite's gravity? \\n\")\n",
        "time.sleep(2)\n",
        "\n",
        "print(\"These may help: \\n\" +\n",
        "      \"- The gravitational constant is 6.6743 × 10e-11 in mks units \\n\" +\n",
        "      \"- https://nssdc.gsfc.nasa.gov/planetary/factsheet/galileanfact_table.html \\n\")\n",
        "time.sleep(2)\n",
        "\n",
        "def callisto_questions_and_calculations():\n",
        "\n",
        "  # mass\n",
        "  print(\"What is Callisto's mass in kg? Enter a number, m, where mass = m × 10e21 kg.\")\n",
        "  time.sleep(1)\n",
        "  callisto_mass_kg_coeff_str = input()\n",
        "  try:\n",
        "    callisto_mass_kg_coeff = float(callisto_mass_kg_coeff_str)\n",
        "  except ValueError:\n",
        "    print()\n",
        "    gottoosilly()\n",
        "    print(\"Invalid input. Please enter a number.\")\n",
        "    callisto_mass_kg_coeff_str = input()\n",
        "    callisto_mass_kg_coeff = float(callisto_mass_kg_coeff_str)\n",
        "  callisto_mass_kg = callisto_mass_kg_coeff * (10**21)\n",
        "  time.sleep(1)\n",
        "  print()\n",
        "\n",
        "  # radius\n",
        "  print(\"What is Callisto's radius in kilometers?\")\n",
        "  callisto_radius_km_str = input()\n",
        "  try:\n",
        "    callisto_radius_km = float(callisto_radius_km_str)\n",
        "  except ValueError:\n",
        "    print()\n",
        "    gottoosilly()\n",
        "    print(\"Invalid input. Please enter a number.\")\n",
        "    callisto_radius_km_str = input()\n",
        "    callisto_radius_km = float(callisto_radius_km_str)\n",
        "  callisto_radius_m = callisto_radius_km * 1000\n",
        "  time.sleep(1)\n",
        "  print()\n",
        "\n",
        "  # v_esc\n",
        "  v_esc_in_mps = v_esc(callisto_mass_kg,callisto_radius_m)\n",
        "  v_esc_in_mps = round(v_esc_in_mps, 4)\n",
        "  v_esc_in_kmps = v_esc_in_mps / 1000\n",
        "\n",
        "  return v_esc_in_kmps\n",
        "\n",
        "answer1 = callisto_questions_and_calculations()\n",
        "\n",
        "if answer1 is not None: # Check if the function returned a valid answer\n",
        "  answer1 = round(answer1, 4)\n",
        "\n",
        "  if (answer1 < 2.435) or (answer1 > 2.445):\n",
        "\n",
        "    print(f\"Your answer is: {answer1} km/s. That doesn't seem right.\\n\" +\n",
        "           \"Would you like to try again? Enter 'yes' or 'no'.\")\n",
        "    determination1 = input()\n",
        "    determination1 = str(determination1)\n",
        "    time.sleep(1)\n",
        "    print()\n",
        "\n",
        "    while (determination1 != \"yes\" and determination1 != \"no\"):\n",
        "      # %run ./pypics.ipynb # Commenting out as pypics.ipynb is not available\n",
        "      # sillygoose() # Assuming sillygoose() is defined elsewhere\n",
        "      print(\"\\nWould you like to try again? Enter 'yes' or 'no'.\")\n",
        "      determination1 = input()\n",
        "      determination1 = str(determination1)\n",
        "      time.sleep(1)\n",
        "      print()\n",
        "\n",
        "    if determination1 == \"yes\":\n",
        "      callisto_questions_and_calculations()\n",
        "\n",
        "    elif determination1 == \"no\":\n",
        "      print(\"Okay. \\n\")\n",
        "      pass\n",
        "\n",
        "  if (2.435 <= answer1 <= 2.445):\n",
        "    print(f\"Your answer is: {answer1} km/s. That seems about right.\")\n",
        "    time.sleep(1)\n",
        "    print(\"You can read on Callisto here, if you'd like: https://science.nasa.gov/jupiter/jupiter-moons/callisto/\")\n",
        "    time.sleep(1)\n",
        "\n",
        "end_things()"
      ],
      "metadata": {
        "colab": {
          "base_uri": "https://localhost:8080/",
          "height": 1000
        },
        "id": "UlZMjvhHJHEr",
        "outputId": "534aea69-ff22-4b75-a502-b558e3aec442"
      },
      "execution_count": 11,
      "outputs": [
        {
          "output_type": "stream",
          "name": "stdout",
          "text": [
            "THE CALLISTOCRAFT\n",
            "----------------- \n",
            "\n",
            "How fast does a rocket on Callisto's surface have to go to escape the \n",
            "Galilean satellite's gravity? \n",
            "\n",
            "These may help: \n",
            "- The gravitational constant is 6.6743 × 10e-11 in mks units \n",
            "- https://nssdc.gsfc.nasa.gov/planetary/factsheet/galileanfact_table.html \n",
            "\n",
            "What is Callisto's mass in kg? Enter a number, m, where mass = m × 10e21 kg.\n",
            "m\n",
            "\n",
            "██████████████████████████████████████████████████████████████████████████████████████\n",
            "██████████████████████████████████████████████████████████████████████████████████████\n",
            "████                                                                     █████████████\n",
            "████  ███████████  ████████████  ███████████  ████████████  ███████████  █████████████\n",
            "████  ███████████  ████████████  ███████████  ████████████  ███████████  █████████████\n",
            "████  ███████████  /      \\████  ███████████  ████████████  ███████████  █████████████\n",
            "████  ███████████           \\██  ███████████  ████████████  ███████████  █████████████\n",
            "████  █████████/             \\█  ███████████  ████████████  ███████████  █████████████\n",
            "████  ███████\\___  _---_      █  ███████████  ████████████  ███████████  █████████████\n",
            "████  ███████████  █████|     █  ███████████  ████████████  ███████████  █████████████\n",
            "████  ███████████  █████|     █  ███████████  ████████████  ███████████  █████████████\n",
            "████  ███████████  █████|     █  ███████████  ████████████  ███████████  █████████████\n",
            "████  ███████████  █████     |█  ███████████  ████████████  ███████████  █████████████\n",
            "████  ███████████  █████     |█  ███████████  ████████████  ███████████  █████████████\n",
            "████  ███████████  ████/     |█  ███████████  ████████████  ███████████  █████████████\n",
            "████  ███████████  ███/      |█  ███████████  ████████████  ███████████  █████████████\n",
            "████  ███████████  ███        \\  █/           \\███████████  ███████████  █████████████\n",
            "████  ███████████  ██/                            \\███████  ███████████  █████████████\n",
            "████  ███████████  █|                                \\████  █████████      ███████████\n",
            "████  ███████████  █|                                  \\██  ████████  █  ██  █████████\n",
            "████  ███████████  █|                                    \\  ████████  █        ███████\n",
            "████  ███████████  ██\\                                         /█████     ██     █████\n",
            "████  ███████████  ███\\                                       /███████     ███    ████\n",
            "████  ███████████  ████\\                                    /██████████         ██████\n",
            "████  ███████████  ████████\\                                ███████████      █████████\n",
            "████  ███████████  ███████████\\                        /██  ███████████  █████████████\n",
            "████  ███████████  ████████████  ██\\             /████████  ███████████  █████████████\n",
            "████  ███████████  ████████████  ████|   |██  ████████████  ███████████  █████████████\n",
            "████  ███████████  ████████████  ███/    |██  ████████████  ███████████  █████████████\n",
            "████  ███████████  ███████████/  __________\\  ████████████  ███████████  █████████████\n",
            "████  ███████████  ████████████  ███████████  ████████████  ███████████  █████████████\n",
            "████                                                                     █████████████\n",
            "██████████████████████████████████████████████████████████████████████████████████████\n",
            "███████████████████  ████████  ████████████████████████████  █  █  ███████████████████\n",
            "████     ██    ██      ████      ██    ███    ███████    █████  █  ███████████████████\n",
            "███  ██  █  ██  ███  ████████  ███  ██  █  ██  █████   ████  █  █  █  ██  ████████████\n",
            "████     █  ██  ███  ████████  ███  ██  █  ██  ████████   █  █  █  ██  █  ████████████\n",
            "███████  ██    ████    ██████    ██    ███    ██████     ██  █  █  ████  █████████████\n",
            "███     ██████████████████████████████████████████████████████████████  ██████████████\n",
            "█████████████████████████████████████████████████████████████████████  ███████████████\n",
            "██████████████████████████████████████████████████████████████████████████████████████\n",
            "Invalid input. Please enter a number.\n",
            "8\n",
            "\n",
            "What is Callisto's radius in kilometers?\n",
            "km\n",
            "\n",
            "██████████████████████████████████████████████████████████████████████████████████████\n",
            "██████████████████████████████████████████████████████████████████████████████████████\n",
            "████                                                                     █████████████\n",
            "████  ███████████  ████████████  ███████████  ████████████  ███████████  █████████████\n",
            "████  ███████████  ████████████  ███████████  ████████████  ███████████  █████████████\n",
            "████  ███████████  /      \\████  ███████████  ████████████  ███████████  █████████████\n",
            "████  ███████████           \\██  ███████████  ████████████  ███████████  █████████████\n",
            "████  █████████/             \\█  ███████████  ████████████  ███████████  █████████████\n",
            "████  ███████\\___  _---_      █  ███████████  ████████████  ███████████  █████████████\n",
            "████  ███████████  █████|     █  ███████████  ████████████  ███████████  █████████████\n",
            "████  ███████████  █████|     █  ███████████  ████████████  ███████████  █████████████\n",
            "████  ███████████  █████|     █  ███████████  ████████████  ███████████  █████████████\n",
            "████  ███████████  █████     |█  ███████████  ████████████  ███████████  █████████████\n",
            "████  ███████████  █████     |█  ███████████  ████████████  ███████████  █████████████\n",
            "████  ███████████  ████/     |█  ███████████  ████████████  ███████████  █████████████\n",
            "████  ███████████  ███/      |█  ███████████  ████████████  ███████████  █████████████\n",
            "████  ███████████  ███        \\  █/           \\███████████  ███████████  █████████████\n",
            "████  ███████████  ██/                            \\███████  ███████████  █████████████\n",
            "████  ███████████  █|                                \\████  █████████      ███████████\n",
            "████  ███████████  █|                                  \\██  ████████  █  ██  █████████\n",
            "████  ███████████  █|                                    \\  ████████  █        ███████\n",
            "████  ███████████  ██\\                                         /█████     ██     █████\n",
            "████  ███████████  ███\\                                       /███████     ███    ████\n",
            "████  ███████████  ████\\                                    /██████████         ██████\n",
            "████  ███████████  ████████\\                                ███████████      █████████\n",
            "████  ███████████  ███████████\\                        /██  ███████████  █████████████\n",
            "████  ███████████  ████████████  ██\\             /████████  ███████████  █████████████\n",
            "████  ███████████  ████████████  ████|   |██  ████████████  ███████████  █████████████\n",
            "████  ███████████  ████████████  ███/    |██  ████████████  ███████████  █████████████\n",
            "████  ███████████  ███████████/  __________\\  ████████████  ███████████  █████████████\n",
            "████  ███████████  ████████████  ███████████  ████████████  ███████████  █████████████\n",
            "████                                                                     █████████████\n",
            "██████████████████████████████████████████████████████████████████████████████████████\n",
            "███████████████████  ████████  ████████████████████████████  █  █  ███████████████████\n",
            "████     ██    ██      ████      ██    ███    ███████    █████  █  ███████████████████\n",
            "███  ██  █  ██  ███  ████████  ███  ██  █  ██  █████   ████  █  █  █  ██  ████████████\n",
            "████     █  ██  ███  ████████  ███  ██  █  ██  ████████   █  █  █  ██  █  ████████████\n",
            "███████  ██    ████    ██████    ██    ███    ██████     ██  █  █  ████  █████████████\n",
            "███     ██████████████████████████████████████████████████████████████  ██████████████\n",
            "█████████████████████████████████████████████████████████████████████  ███████████████\n",
            "██████████████████████████████████████████████████████████████████████████████████████\n",
            "Invalid input. Please enter a number.\n",
            "9\n",
            "\n",
            "Your answer is: 10.8927 km/s. That doesn't seem right.\n",
            "Would you like to try again? Enter 'yes' or 'no'.\n"
          ]
        },
        {
          "output_type": "error",
          "ename": "KeyboardInterrupt",
          "evalue": "Interrupted by user",
          "traceback": [
            "\u001b[0;31m---------------------------------------------------------------------------\u001b[0m",
            "\u001b[0;31mKeyboardInterrupt\u001b[0m                         Traceback (most recent call last)",
            "\u001b[0;32m/tmp/ipython-input-11-2752868392.py\u001b[0m in \u001b[0;36m<cell line: 0>\u001b[0;34m()\u001b[0m\n\u001b[1;32m     62\u001b[0m     print(f\"Your answer is: {answer1} km/s. That doesn't seem right.\\n\" +\n\u001b[1;32m     63\u001b[0m            \"Would you like to try again? Enter 'yes' or 'no'.\")\n\u001b[0;32m---> 64\u001b[0;31m     \u001b[0mdetermination1\u001b[0m \u001b[0;34m=\u001b[0m \u001b[0minput\u001b[0m\u001b[0;34m(\u001b[0m\u001b[0;34m)\u001b[0m\u001b[0;34m\u001b[0m\u001b[0;34m\u001b[0m\u001b[0m\n\u001b[0m\u001b[1;32m     65\u001b[0m     \u001b[0mdetermination1\u001b[0m \u001b[0;34m=\u001b[0m \u001b[0mstr\u001b[0m\u001b[0;34m(\u001b[0m\u001b[0mdetermination1\u001b[0m\u001b[0;34m)\u001b[0m\u001b[0;34m\u001b[0m\u001b[0;34m\u001b[0m\u001b[0m\n\u001b[1;32m     66\u001b[0m     \u001b[0mtime\u001b[0m\u001b[0;34m.\u001b[0m\u001b[0msleep\u001b[0m\u001b[0;34m(\u001b[0m\u001b[0;36m1\u001b[0m\u001b[0;34m)\u001b[0m\u001b[0;34m\u001b[0m\u001b[0;34m\u001b[0m\u001b[0m\n",
            "\u001b[0;32m/usr/local/lib/python3.11/dist-packages/ipykernel/kernelbase.py\u001b[0m in \u001b[0;36mraw_input\u001b[0;34m(self, prompt)\u001b[0m\n\u001b[1;32m   1175\u001b[0m                 \u001b[0;34m\"raw_input was called, but this frontend does not support input requests.\"\u001b[0m\u001b[0;34m\u001b[0m\u001b[0;34m\u001b[0m\u001b[0m\n\u001b[1;32m   1176\u001b[0m             )\n\u001b[0;32m-> 1177\u001b[0;31m         return self._input_request(\n\u001b[0m\u001b[1;32m   1178\u001b[0m             \u001b[0mstr\u001b[0m\u001b[0;34m(\u001b[0m\u001b[0mprompt\u001b[0m\u001b[0;34m)\u001b[0m\u001b[0;34m,\u001b[0m\u001b[0;34m\u001b[0m\u001b[0;34m\u001b[0m\u001b[0m\n\u001b[1;32m   1179\u001b[0m             \u001b[0mself\u001b[0m\u001b[0;34m.\u001b[0m\u001b[0m_parent_ident\u001b[0m\u001b[0;34m[\u001b[0m\u001b[0;34m\"shell\"\u001b[0m\u001b[0;34m]\u001b[0m\u001b[0;34m,\u001b[0m\u001b[0;34m\u001b[0m\u001b[0;34m\u001b[0m\u001b[0m\n",
            "\u001b[0;32m/usr/local/lib/python3.11/dist-packages/ipykernel/kernelbase.py\u001b[0m in \u001b[0;36m_input_request\u001b[0;34m(self, prompt, ident, parent, password)\u001b[0m\n\u001b[1;32m   1217\u001b[0m             \u001b[0;32mexcept\u001b[0m \u001b[0mKeyboardInterrupt\u001b[0m\u001b[0;34m:\u001b[0m\u001b[0;34m\u001b[0m\u001b[0;34m\u001b[0m\u001b[0m\n\u001b[1;32m   1218\u001b[0m                 \u001b[0;31m# re-raise KeyboardInterrupt, to truncate traceback\u001b[0m\u001b[0;34m\u001b[0m\u001b[0;34m\u001b[0m\u001b[0m\n\u001b[0;32m-> 1219\u001b[0;31m                 \u001b[0;32mraise\u001b[0m \u001b[0mKeyboardInterrupt\u001b[0m\u001b[0;34m(\u001b[0m\u001b[0;34m\"Interrupted by user\"\u001b[0m\u001b[0;34m)\u001b[0m \u001b[0;32mfrom\u001b[0m \u001b[0;32mNone\u001b[0m\u001b[0;34m\u001b[0m\u001b[0;34m\u001b[0m\u001b[0m\n\u001b[0m\u001b[1;32m   1220\u001b[0m             \u001b[0;32mexcept\u001b[0m \u001b[0mException\u001b[0m\u001b[0;34m:\u001b[0m\u001b[0;34m\u001b[0m\u001b[0;34m\u001b[0m\u001b[0m\n\u001b[1;32m   1221\u001b[0m                 \u001b[0mself\u001b[0m\u001b[0;34m.\u001b[0m\u001b[0mlog\u001b[0m\u001b[0;34m.\u001b[0m\u001b[0mwarning\u001b[0m\u001b[0;34m(\u001b[0m\u001b[0;34m\"Invalid Message:\"\u001b[0m\u001b[0;34m,\u001b[0m \u001b[0mexc_info\u001b[0m\u001b[0;34m=\u001b[0m\u001b[0;32mTrue\u001b[0m\u001b[0;34m)\u001b[0m\u001b[0;34m\u001b[0m\u001b[0;34m\u001b[0m\u001b[0m\n",
            "\u001b[0;31mKeyboardInterrupt\u001b[0m: Interrupted by user"
          ]
        }
      ]
    },
    {
      "cell_type": "code",
      "source": [
        "# THING what\n",
        "\n",
        "'''\n",
        "Black Hole Bending: Why does light bend around black holes?\n",
        "\n",
        "Light bends around black holes possibly due to the extreme warping of spacetime\n",
        "caused by their immense gravity. This phenomenon, known as gravitational\n",
        "lensing, occurs because light, while traveling in a straight line according\n",
        "to its own frame of reference, follows the curves and distortions of spacetime\n",
        "created by the black hole's mass.\n",
        "\n",
        "Check out this other example of gravitational lensing, that is sometimes called\n",
        "the \"Einstein Cross\":\n",
        "https://science.nasa.gov/asset/hubble/the-gravitational-lens-g2237-0305/\n",
        "'''"
      ],
      "metadata": {
        "id": "IH6kkhHqmg2u"
      },
      "execution_count": null,
      "outputs": []
    },
    {
      "cell_type": "code",
      "source": [
        "# THING what\n",
        "\n",
        "'''\n",
        "Add something about pulsar spins! Get a data array from the internet (formatted\n",
        "correctly for python purposes; also, review arrays) on one of these things and\n",
        "make it into a graph!!!:\n",
        ">>Dark Matter Detection: Precise pulsar timing data can be used to search for\n",
        "  the 'noise' introduced by dark matter objects, potentially leading to a better\n",
        "  understanding of dark matter distribution.\n",
        ">>Gravitational Waves: By precisely measuring the timing of pulsar signals,\n",
        "  scientists can detect the subtle distortions caused by passing gravitational\n",
        "  waves, potentially revealing low-frequency gravitational radiation from\n",
        "  merging supermassive black holes.\n",
        "'''"
      ],
      "metadata": {
        "id": "X3yVjli4czTv"
      },
      "execution_count": null,
      "outputs": []
    },
    {
      "cell_type": "code",
      "source": [
        "# THING what\n",
        "\n",
        "'''\n",
        "Mosasaur Multiple-choice (tell them what a mosasaur is) or Megalodon\n",
        "Multiple-choice [random number generator and then if statement to do\n",
        "mosasaur or megalodon]\n",
        "'''"
      ],
      "metadata": {
        "id": "kRCAX-uqmkXc"
      },
      "execution_count": null,
      "outputs": []
    },
    {
      "cell_type": "code",
      "source": [
        "# THING what\n",
        "\n",
        "'''\n",
        "Calculator: This calculator calculates things so you don't have to. Pick\n",
        "from one of these [and loop however many times so they can pick again until\n",
        "all things are calculated; also have a way they can pass]. And calculate things\n",
        "that are difficult/tedious to calculate; maybe it'll be useful, and maybe this\n",
        "is the wrong program for a calculator. Make a big calculator notebook after this\n",
        "notebook.\n",
        ">>matrices maybe\n",
        ">>\n",
        "'''"
      ],
      "metadata": {
        "id": "r4G-5kaoouil"
      },
      "execution_count": null,
      "outputs": []
    },
    {
      "cell_type": "code",
      "source": [
        "# THING what\n",
        "\n",
        "'''\n",
        "A Quasar Question:\n",
        "'''"
      ],
      "metadata": {
        "id": "Y4E_iwxdovVT"
      },
      "execution_count": null,
      "outputs": []
    },
    {
      "cell_type": "code",
      "source": [
        "# THING what\n",
        "\n",
        "'''\n",
        "Dino Nuggets: (fun facts about dinosaurs; \"enter 'keyword' to learn more\" loop,\n",
        "or say no to break while loop with if statements)\n",
        ">>\n",
        "'''"
      ],
      "metadata": {
        "id": "YMCKzpsiovf2"
      },
      "execution_count": null,
      "outputs": []
    },
    {
      "cell_type": "code",
      "source": [
        "# THING what\n",
        "\n",
        "'''\n",
        "Now onto something boring and really hard... [insert impossible physics\n",
        "question]; \"If you don't want to answer this question, enter 'no'.\" ; and\n",
        "for every answer, say 'thanks for the idea' and maybe save it to a list file.\n",
        "'''"
      ],
      "metadata": {
        "id": "m6BfkrzTPT_a"
      },
      "execution_count": null,
      "outputs": []
    },
    {
      "cell_type": "code",
      "source": [
        "# SCRATCH\n",
        "# -------\n",
        "\n",
        "# print(\"Do you wish to continue? Enter:\\n\" +\n",
        "#       \"> 'c' to continue\\n\" +\n",
        "#       \"> 's' to skip this section\\n\" +\n",
        "#       \"> 'e' to exit the program\")\n",
        "# wish_# = input()\n",
        "# print()\n",
        "#\n",
        "# while (wish_# != \"c\" and wish_# != \"s\" and wish_# != \"e\"):\n",
        "#   sillygoose()\n",
        "#   print()\n",
        "#   print(\"Do you wish to continue? Enter:\\n\" +\n",
        "#       \"> 'c' to continue\\n\" +\n",
        "#       \"> 's' to skip this section\\n\" +\n",
        "#       \"> 'e' to exit the program\")\n",
        "#   wish_# = input()\n",
        "#   print()\n",
        "#\n",
        "# if wish_# == \"c\":\n",
        "#   time.sleep(1)\n",
        "#   print(\"SECTION TITLE\")\n",
        "#   print(\"-------------\")\n",
        "#   time.sleep(1)\n",
        "#   # and so on\n",
        "#\n",
        "# elif wish_# == \"s\":\n",
        "#   pass\n",
        "#\n",
        "# elif wish_# == \"e\":\n",
        "#   sys.exit(\"Bye, bye, Birdy!\")\n",
        "#\n",
        "# print()"
      ],
      "metadata": {
        "id": "yxsYY9c1omJS"
      },
      "execution_count": null,
      "outputs": []
    },
    {
      "cell_type": "code",
      "source": [
        "print(\"Any last words?\")\n",
        "\n",
        "'''\n",
        "thatsallfolks1(.3)\n",
        "or\n",
        "thatsallfolks2(.2)\n",
        "\n",
        "pick w/ a random number generator and if statements\n",
        "'''"
      ],
      "metadata": {
        "colab": {
          "base_uri": "https://localhost:8080/",
          "height": 53
        },
        "id": "SLEY2Rq6PYCM",
        "outputId": "054e9369-249f-44e7-9716-dad5a917051e"
      },
      "execution_count": null,
      "outputs": [
        {
          "output_type": "stream",
          "name": "stdout",
          "text": [
            "Any last words?\n"
          ]
        },
        {
          "output_type": "execute_result",
          "data": {
            "text/plain": [
              "'\\nthatsallfolks1(.3)\\nor\\nthatsallfolks2(.2)\\n\\npick w/ a random number generator and if statements\\n'"
            ],
            "application/vnd.google.colaboratory.intrinsic+json": {
              "type": "string"
            }
          },
          "metadata": {},
          "execution_count": 1
        }
      ]
    }
  ]
}